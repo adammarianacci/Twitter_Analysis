{
 "cells": [
  {
   "cell_type": "markdown",
   "metadata": {},
   "source": [
    "# Introduction\n",
    "\n",
    "## Final Project Submission\n",
    "\n",
    "***\n",
    "- Student Name: Adam Marianacci\n",
    "- Student Pace: Flex\n",
    "- Scheduled project review date/time: TBD\n",
    "- Instructor Name: Mark Barbour"
   ]
  },
  {
   "cell_type": "markdown",
   "metadata": {},
   "source": [
    "# Business Understanding"
   ]
  },
  {
   "cell_type": "markdown",
   "metadata": {},
   "source": [
    "It is my job to help SXSW detect positive sentiment from tweets about their event so that they can continue to give people what they want and make improvements for future conferences."
   ]
  },
  {
   "cell_type": "markdown",
   "metadata": {},
   "source": [
    "# Data Understanding"
   ]
  },
  {
   "cell_type": "markdown",
   "metadata": {},
   "source": [
    "This dataset comes from 'CrowdFlower' via data.world. The initial dataframe contained roughly 9,000 tweets and information about the sentiment of the tweet as well as what brand or product the tweet was directed at. Some limitations of the dataset included missing values as well as a class imbalance in the sentiment of the tweets. Over 50% of the tweets showed no emotion, about 33% showed a positive emotion, and only around 6% showed a negative emotion. Due to this imbalance I combined some of the 'no emotion' tweets with the 'negative emotion' tweets to create a 'Not Positive' class to match the 'Positive' class. There was a lot of missing data from the emotion about the brands so I was unable to conduct analysis in this area. The dataset was also fairly small for predictive modeling. This dataset was suitable for the project because it allowed me to build a sentiment detection model from the text in the tweets against the target 'sentiment' of what tweets were considered positive and which were not.\n",
    "\n",
    "Dataset: [Brands and Product Emotions](https://data.world/crowdflower/brands-and-product-emotions)"
   ]
  },
  {
   "cell_type": "markdown",
   "metadata": {},
   "source": [
    "# Data Preperation"
   ]
  },
  {
   "cell_type": "code",
   "execution_count": 1,
   "metadata": {},
   "outputs": [],
   "source": [
    "# Importing the necessary libraries\n",
    "\n",
    "%load_ext autoreload\n",
    "%autoreload 2\n",
    "\n",
    "import os\n",
    "import sys\n",
    "module_path = os.path.abspath(os.path.join(os.pardir, os.pardir))\n",
    "if module_path not in sys.path:\n",
    "    sys.path.append(module_path)\n",
    "    \n",
    "import pandas as pd\n",
    "import numpy as np\n",
    "import nltk\n",
    "from nltk.probability import FreqDist\n",
    "from nltk.corpus import stopwords, wordnet\n",
    "from nltk.tokenize import regexp_tokenize, word_tokenize, RegexpTokenizer\n",
    "from nltk import pos_tag\n",
    "from nltk.stem import WordNetLemmatizer\n",
    "from nltk.corpus import stopwords\n",
    "from sklearn.feature_extraction.text import TfidfVectorizer, CountVectorizer\n",
    "from sklearn.ensemble import RandomForestClassifier\n",
    "from sklearn.naive_bayes import MultinomialNB\n",
    "from sklearn.manifold import TSNE\n",
    "from sklearn.metrics import accuracy_score, precision_score, confusion_matrix\n",
    "from sklearn.model_selection import train_test_split\n",
    "from collections import defaultdict\n",
    "from collections import Counter\n",
    "from sklearn.model_selection import GridSearchCV\n",
    "import matplotlib.pyplot as plt\n",
    "import seaborn as sns\n",
    "import string\n",
    "import re\n",
    "import warnings\n",
    "warnings.filterwarnings('ignore')"
   ]
  },
  {
   "cell_type": "code",
   "execution_count": 2,
   "metadata": {},
   "outputs": [
    {
     "data": {
      "text/plain": [
       "(9093, 3)"
      ]
     },
     "execution_count": 2,
     "metadata": {},
     "output_type": "execute_result"
    }
   ],
   "source": [
    "# Loading the data, and looking at the shape of the df\n",
    "\n",
    "corpus = pd.read_csv('data/twitter_sentiment.csv', encoding='latin1')\n",
    "corpus.shape"
   ]
  },
  {
   "cell_type": "code",
   "execution_count": 3,
   "metadata": {
    "scrolled": true
   },
   "outputs": [
    {
     "data": {
      "text/html": [
       "<div>\n",
       "<style scoped>\n",
       "    .dataframe tbody tr th:only-of-type {\n",
       "        vertical-align: middle;\n",
       "    }\n",
       "\n",
       "    .dataframe tbody tr th {\n",
       "        vertical-align: top;\n",
       "    }\n",
       "\n",
       "    .dataframe thead th {\n",
       "        text-align: right;\n",
       "    }\n",
       "</style>\n",
       "<table border=\"1\" class=\"dataframe\">\n",
       "  <thead>\n",
       "    <tr style=\"text-align: right;\">\n",
       "      <th></th>\n",
       "      <th>tweet_text</th>\n",
       "      <th>emotion_in_tweet_is_directed_at</th>\n",
       "      <th>is_there_an_emotion_directed_at_a_brand_or_product</th>\n",
       "    </tr>\n",
       "  </thead>\n",
       "  <tbody>\n",
       "    <tr>\n",
       "      <th>0</th>\n",
       "      <td>.@wesley83 I have a 3G iPhone. After 3 hrs twe...</td>\n",
       "      <td>iPhone</td>\n",
       "      <td>Negative emotion</td>\n",
       "    </tr>\n",
       "    <tr>\n",
       "      <th>1</th>\n",
       "      <td>@jessedee Know about @fludapp ? Awesome iPad/i...</td>\n",
       "      <td>iPad or iPhone App</td>\n",
       "      <td>Positive emotion</td>\n",
       "    </tr>\n",
       "    <tr>\n",
       "      <th>2</th>\n",
       "      <td>@swonderlin Can not wait for #iPad 2 also. The...</td>\n",
       "      <td>iPad</td>\n",
       "      <td>Positive emotion</td>\n",
       "    </tr>\n",
       "    <tr>\n",
       "      <th>3</th>\n",
       "      <td>@sxsw I hope this year's festival isn't as cra...</td>\n",
       "      <td>iPad or iPhone App</td>\n",
       "      <td>Negative emotion</td>\n",
       "    </tr>\n",
       "    <tr>\n",
       "      <th>4</th>\n",
       "      <td>@sxtxstate great stuff on Fri #SXSW: Marissa M...</td>\n",
       "      <td>Google</td>\n",
       "      <td>Positive emotion</td>\n",
       "    </tr>\n",
       "  </tbody>\n",
       "</table>\n",
       "</div>"
      ],
      "text/plain": [
       "                                          tweet_text  \\\n",
       "0  .@wesley83 I have a 3G iPhone. After 3 hrs twe...   \n",
       "1  @jessedee Know about @fludapp ? Awesome iPad/i...   \n",
       "2  @swonderlin Can not wait for #iPad 2 also. The...   \n",
       "3  @sxsw I hope this year's festival isn't as cra...   \n",
       "4  @sxtxstate great stuff on Fri #SXSW: Marissa M...   \n",
       "\n",
       "  emotion_in_tweet_is_directed_at  \\\n",
       "0                          iPhone   \n",
       "1              iPad or iPhone App   \n",
       "2                            iPad   \n",
       "3              iPad or iPhone App   \n",
       "4                          Google   \n",
       "\n",
       "  is_there_an_emotion_directed_at_a_brand_or_product  \n",
       "0                                   Negative emotion  \n",
       "1                                   Positive emotion  \n",
       "2                                   Positive emotion  \n",
       "3                                   Negative emotion  \n",
       "4                                   Positive emotion  "
      ]
     },
     "execution_count": 3,
     "metadata": {},
     "output_type": "execute_result"
    }
   ],
   "source": [
    "# previewing the dataframe\n",
    "corpus.head()"
   ]
  },
  {
   "cell_type": "code",
   "execution_count": 4,
   "metadata": {},
   "outputs": [
    {
     "name": "stdout",
     "output_type": "stream",
     "text": [
      "<class 'pandas.core.frame.DataFrame'>\n",
      "RangeIndex: 9093 entries, 0 to 9092\n",
      "Data columns (total 3 columns):\n",
      " #   Column                                              Non-Null Count  Dtype \n",
      "---  ------                                              --------------  ----- \n",
      " 0   tweet_text                                          9092 non-null   object\n",
      " 1   emotion_in_tweet_is_directed_at                     3291 non-null   object\n",
      " 2   is_there_an_emotion_directed_at_a_brand_or_product  9093 non-null   object\n",
      "dtypes: object(3)\n",
      "memory usage: 213.2+ KB\n"
     ]
    }
   ],
   "source": [
    "# Taking a look at the datatypes and checking for missing values\n",
    "corpus.info()"
   ]
  },
  {
   "cell_type": "code",
   "execution_count": 5,
   "metadata": {},
   "outputs": [],
   "source": [
    "# Dropping 'the emotion_in_tweet_is_directed_at' column, bc of missing values and not needed for our problem.\n",
    "corpus.drop('emotion_in_tweet_is_directed_at', axis=1, inplace=True)"
   ]
  },
  {
   "cell_type": "code",
   "execution_count": 6,
   "metadata": {},
   "outputs": [],
   "source": [
    "# renaming the 'is_there_an_emotion...' column to 'sentiment'\n",
    "corpus.rename(columns={\n",
    "    'is_there_an_emotion_directed_at_a_brand_or_product': 'sentiment'}, inplace=True)"
   ]
  },
  {
   "cell_type": "code",
   "execution_count": 7,
   "metadata": {
    "scrolled": true
   },
   "outputs": [
    {
     "data": {
      "text/plain": [
       "No emotion toward brand or product    5389\n",
       "Positive emotion                      2978\n",
       "Negative emotion                       570\n",
       "I can't tell                           156\n",
       "Name: sentiment, dtype: int64"
      ]
     },
     "execution_count": 7,
     "metadata": {},
     "output_type": "execute_result"
    }
   ],
   "source": [
    "# Inspecting the values in 'sentiment'. We have an imbalance in occurences. \n",
    "corpus['sentiment'].value_counts()"
   ]
  },
  {
   "cell_type": "code",
   "execution_count": 8,
   "metadata": {},
   "outputs": [],
   "source": [
    "# Dropping 'I can't tell' category because it is not useful and a relatively low amount.\n",
    "corpus.drop(corpus[corpus['sentiment'] == \"I can't tell\"].index, inplace=True)"
   ]
  },
  {
   "cell_type": "code",
   "execution_count": 9,
   "metadata": {},
   "outputs": [
    {
     "name": "stdout",
     "output_type": "stream",
     "text": [
      "No emotion toward brand or product    2981\n",
      "Negative emotion                      2978\n",
      "Positive emotion                      2978\n",
      "Name: sentiment, dtype: int64\n"
     ]
    }
   ],
   "source": [
    "# Creating a mask to identify rows with \"No emotion toward brand or product\"\n",
    "no_emotion_mask = corpus['sentiment'] == \"No emotion toward brand or product\"\n",
    "\n",
    "# Locating the rows with the mask and redistribute 2,408 occurrences\n",
    "no_emotion_indices = corpus[no_emotion_mask].sample(n=2408, random_state=42).index\n",
    "corpus.loc[no_emotion_indices, 'sentiment'] = \"Negative emotion\"\n",
    "\n",
    "# Verifying the changes\n",
    "print(corpus['sentiment'].value_counts())"
   ]
  },
  {
   "cell_type": "code",
   "execution_count": 10,
   "metadata": {},
   "outputs": [
    {
     "name": "stdout",
     "output_type": "stream",
     "text": [
      "Negative emotion    2978\n",
      "Positive emotion    2978\n",
      "Name: sentiment, dtype: int64\n"
     ]
    }
   ],
   "source": [
    "# Creating a mask to identify rows with \"No emotion toward brand or product\"\n",
    "no_emotion_mask = corpus['sentiment'] == \"No emotion toward brand or product\"\n",
    "\n",
    "# Drop the rows with this mask\n",
    "corpus.drop(corpus[no_emotion_mask].index, inplace=True)\n",
    "\n",
    "# Verify the changes\n",
    "print(corpus['sentiment'].value_counts())"
   ]
  },
  {
   "cell_type": "code",
   "execution_count": 11,
   "metadata": {
    "scrolled": true
   },
   "outputs": [
    {
     "name": "stdout",
     "output_type": "stream",
     "text": [
      "Positive        2978\n",
      "Not Positive    2978\n",
      "Name: sentiment, dtype: int64\n"
     ]
    }
   ],
   "source": [
    "# Define the mapping of old values to new values\n",
    "mapping = {'Positive emotion': 'Positive', 'Negative emotion': 'Not Positive'}\n",
    "\n",
    "# Replace the categories in the 'sentiment' column\n",
    "corpus['sentiment'] = corpus['sentiment'].replace(mapping)\n",
    "\n",
    "# Verify the changes\n",
    "print(corpus['sentiment'].value_counts())"
   ]
  },
  {
   "cell_type": "code",
   "execution_count": 12,
   "metadata": {},
   "outputs": [],
   "source": [
    "# Assigning 'Positive' sentiment to 1 and 'Not Positive' to 0\n",
    "corpus['sentiment'] = corpus['sentiment'].replace(\n",
    "    {'Positive': 1, 'Not Positive': 0})"
   ]
  },
  {
   "cell_type": "markdown",
   "metadata": {},
   "source": [
    "In cells 9-12 we have set this up to be a binary classification problem. We have combined values from \"Negative emotion\" with values from \"No emotion toward brand or product\". We did this because we had a class imbalance. We sampled 2,408 occurences from \"No emotion toward brand or product\" and combined them in the \"Negative emotion\" category to create a new category called \"Not Positive\". There were a lot more occurences of \"Positive emotion\" compared to \"Negative emotion\". By combining the categories we have now have a balance between 'Positive' and 'Not Positive' occurences. We have assigned sentiment values 'Positive' to 1 and 'Not Positive' to 0."
   ]
  },
  {
   "cell_type": "code",
   "execution_count": 13,
   "metadata": {},
   "outputs": [
    {
     "name": "stdout",
     "output_type": "stream",
     "text": [
      "<class 'pandas.core.frame.DataFrame'>\n",
      "Int64Index: 5956 entries, 0 to 9092\n",
      "Data columns (total 2 columns):\n",
      " #   Column      Non-Null Count  Dtype \n",
      "---  ------      --------------  ----- \n",
      " 0   tweet_text  5956 non-null   object\n",
      " 1   sentiment   5956 non-null   int64 \n",
      "dtypes: int64(1), object(1)\n",
      "memory usage: 139.6+ KB\n"
     ]
    }
   ],
   "source": [
    "# Inspecting the DF once again to make sure everything looks correct after all the changes we made.\n",
    "corpus.info()"
   ]
  },
  {
   "cell_type": "code",
   "execution_count": 14,
   "metadata": {},
   "outputs": [
    {
     "data": {
      "text/html": [
       "<div>\n",
       "<style scoped>\n",
       "    .dataframe tbody tr th:only-of-type {\n",
       "        vertical-align: middle;\n",
       "    }\n",
       "\n",
       "    .dataframe tbody tr th {\n",
       "        vertical-align: top;\n",
       "    }\n",
       "\n",
       "    .dataframe thead th {\n",
       "        text-align: right;\n",
       "    }\n",
       "</style>\n",
       "<table border=\"1\" class=\"dataframe\">\n",
       "  <thead>\n",
       "    <tr style=\"text-align: right;\">\n",
       "      <th></th>\n",
       "      <th>tweet_text</th>\n",
       "      <th>sentiment</th>\n",
       "    </tr>\n",
       "  </thead>\n",
       "  <tbody>\n",
       "    <tr>\n",
       "      <th>0</th>\n",
       "      <td>.@wesley83 I have a 3G iPhone. After 3 hrs twe...</td>\n",
       "      <td>0</td>\n",
       "    </tr>\n",
       "    <tr>\n",
       "      <th>1</th>\n",
       "      <td>@jessedee Know about @fludapp ? Awesome iPad/i...</td>\n",
       "      <td>1</td>\n",
       "    </tr>\n",
       "    <tr>\n",
       "      <th>2</th>\n",
       "      <td>@swonderlin Can not wait for #iPad 2 also. The...</td>\n",
       "      <td>1</td>\n",
       "    </tr>\n",
       "    <tr>\n",
       "      <th>3</th>\n",
       "      <td>@sxsw I hope this year's festival isn't as cra...</td>\n",
       "      <td>0</td>\n",
       "    </tr>\n",
       "    <tr>\n",
       "      <th>4</th>\n",
       "      <td>@sxtxstate great stuff on Fri #SXSW: Marissa M...</td>\n",
       "      <td>1</td>\n",
       "    </tr>\n",
       "  </tbody>\n",
       "</table>\n",
       "</div>"
      ],
      "text/plain": [
       "                                          tweet_text  sentiment\n",
       "0  .@wesley83 I have a 3G iPhone. After 3 hrs twe...          0\n",
       "1  @jessedee Know about @fludapp ? Awesome iPad/i...          1\n",
       "2  @swonderlin Can not wait for #iPad 2 also. The...          1\n",
       "3  @sxsw I hope this year's festival isn't as cra...          0\n",
       "4  @sxtxstate great stuff on Fri #SXSW: Marissa M...          1"
      ]
     },
     "execution_count": 14,
     "metadata": {},
     "output_type": "execute_result"
    }
   ],
   "source": [
    "# previewing the cleaned up df\n",
    "corpus.head()"
   ]
  },
  {
   "cell_type": "markdown",
   "metadata": {},
   "source": [
    "Inspecting common words that could have low semantic value and could potentially be added to 'stopwords'"
   ]
  },
  {
   "cell_type": "code",
   "execution_count": 15,
   "metadata": {},
   "outputs": [
    {
     "name": "stdout",
     "output_type": "stream",
     "text": [
      "@mention: 4211\n",
      "the: 2671\n",
      "#sxsw: 2602\n",
      "{link}: 2579\n",
      "#SXSW: 2384\n",
      "to: 2328\n",
      "RT: 1851\n",
      "at: 1848\n",
      "for: 1594\n",
      "a: 1484\n",
      "iPad: 1206\n",
      "in: 1181\n",
      "of: 1151\n",
      "is: 1141\n",
      "and: 1022\n",
      "Google: 994\n",
      "Apple: 991\n",
      "on: 817\n",
      "I: 724\n",
      "store: 618\n"
     ]
    }
   ],
   "source": [
    "# Finding the top 10 most used words in the tweets\n",
    "all_words = ' '.join(corpus['tweet_text']).split()\n",
    "\n",
    "# Calculate the frequency distribution of words\n",
    "word_freq = FreqDist(all_words)\n",
    "\n",
    "# Get the top 10 most frequent words\n",
    "top_20_words = word_freq.most_common(20)\n",
    "\n",
    "# Print the top 10 most frequent words\n",
    "for word, freq in top_20_words:\n",
    "    print(f'{word}: {freq}')"
   ]
  },
  {
   "cell_type": "code",
   "execution_count": 47,
   "metadata": {},
   "outputs": [
    {
     "data": {
      "image/png": "[encoded data removed]",
      "text/plain": [
       "<Figure size 720x432 with 1 Axes>"
      ]
     },
     "metadata": {},
     "output_type": "display_data"
    }
   ],
   "source": [
    "# Finding the top 10 most used words in the tweets\n",
    "all_words = ' '.join(corpus['tweet_text']).split()\n",
    "\n",
    "# Calculate the frequency distribution of words\n",
    "word_freq = FreqDist(all_words)\n",
    "\n",
    "# Get the top 10 most frequent words\n",
    "top_10_words = word_freq.most_common(10)\n",
    "\n",
    "# Extracting words and frequencies\n",
    "words, frequencies = zip(*top_10_words)\n",
    "\n",
    "# Creating a bar plot\n",
    "plt.figure(figsize=(10, 6))\n",
    "plt.bar(words, frequencies, color='skyblue')\n",
    "plt.xlabel('Words')\n",
    "plt.ylabel('Frequency')\n",
    "plt.title('Top 10 Most Frequent Words in Tweets')\n",
    "plt.xticks(rotation=45)  # Rotate x-axis labels for better readability\n",
    "plt.tight_layout()\n",
    "plt.show()\n"
   ]
  },
  {
   "cell_type": "code",
   "execution_count": 16,
   "metadata": {},
   "outputs": [],
   "source": [
    "# Defining X and y\n",
    "X = corpus.tweet_text\n",
    "y = corpus.sentiment"
   ]
  },
  {
   "cell_type": "markdown",
   "metadata": {},
   "source": [
    "Below is our holdout test set."
   ]
  },
  {
   "cell_type": "code",
   "execution_count": 17,
   "metadata": {},
   "outputs": [],
   "source": [
    "# Setting up train,test,split, 20% on testing \n",
    "X_train, X_test, y_train, y_test = train_test_split(X,y, random_state=42, test_size=0.2)"
   ]
  },
  {
   "cell_type": "markdown",
   "metadata": {},
   "source": [
    "Preprocess the training set. Using standard stop words, as well as additional words unique to the dataset, and words that were common in both the positive and not positive class."
   ]
  },
  {
   "cell_type": "code",
   "execution_count": 18,
   "metadata": {},
   "outputs": [],
   "source": [
    "# bringing in stopwords\n",
    "\n",
    "sw = stopwords.words('english')\n",
    "# add additional words to the stopwords list\n",
    "additional_stopwords = ['sxsw', 'apple', 'google', 'austin', 'ipad', \n",
    "                        'iphone', 'mention', 'android', 'rt', 'link',\n",
    "                       'app', 'quot', 'store', 'aaron', 'abc', 'aapl',\n",
    "                       'ab', 'acc', 'adam', 'adele', 'abt', 'sxswi',\n",
    "                       'new', 'launch', 'circle', 'line','go', 'new', 'get', \n",
    "                       'pop', 'amp', 'via', 'open', 'come', 'tx', 'canada', 'fb',\n",
    "                       'ch']\n",
    "sw.extend(additional_stopwords)"
   ]
  },
  {
   "cell_type": "code",
   "execution_count": 19,
   "metadata": {},
   "outputs": [],
   "source": [
    "# Translating nltk pos_tags to wordnet pos_tags using a function to ensure compatability between libraries\n",
    "# Preparing for lemmatization\n",
    "def get_wordnet_pos(treebank_tag):\n",
    "    '''\n",
    "    Translate nltk POS to wordnet tags\n",
    "    '''\n",
    "    if treebank_tag.startswith('J'):\n",
    "        return wordnet.ADJ\n",
    "    elif treebank_tag.startswith('V'):\n",
    "        return wordnet.VERB\n",
    "    elif treebank_tag.startswith('N'):\n",
    "        return wordnet.NOUN\n",
    "    elif treebank_tag.startswith('R'):\n",
    "        return wordnet.ADV\n",
    "    else:\n",
    "        return wordnet.NOUN"
   ]
  },
  {
   "cell_type": "code",
   "execution_count": 20,
   "metadata": {},
   "outputs": [],
   "source": [
    "# creating a function; a for loop for iterating through the model\n",
    "# removing punctuation, lower casing, removing numbers, lemmatizing the tweets\n",
    "def tweet_preparer(tweet, stop_words=sw, ):\n",
    "    regex_token = RegexpTokenizer(r\"([a-zA-Z]+(?:’[a-z]+)?)\")\n",
    "    tweet = regex_token.tokenize(tweet)\n",
    "    tweet = [word.lower() for word in tweet]\n",
    "    tweet = [word for word in tweet if word not in sw]\n",
    "    # print(tweet)\n",
    "    tweet = pos_tag(tweet)\n",
    "    tweet = [(word[0], get_wordnet_pos(word[1])) for word in tweet]\n",
    "    lemmatizer = WordNetLemmatizer() \n",
    "    tweet = [lemmatizer.lemmatize(word[0], word[1]) for word in tweet]\n",
    "    return ' '.join(tweet)"
   ]
  },
  {
   "cell_type": "markdown",
   "metadata": {},
   "source": [
    "Below is to inspect if my preprocessing worked. We can now compare the sample_tweet to the preprocessed tweet."
   ]
  },
  {
   "cell_type": "code",
   "execution_count": 21,
   "metadata": {},
   "outputs": [
    {
     "name": "stdout",
     "output_type": "stream",
     "text": [
      "@mention  Its bigger than an iphone and smaller than a PC, so good for big events like #SXSW and meeting day? {link}\n",
      "big small pc good big event like meeting day\n"
     ]
    }
   ],
   "source": [
    "# Select a sample tweet from the corpus DataFrame\n",
    "sample_tweet = corpus['tweet_text'].iloc[522]  #'tweet_text' is the column containing the tweets\n",
    "print(sample_tweet)\n",
    "# Apply tweet_preparer function to preprocess the sample tweet\n",
    "preprocessed_tweet = tweet_preparer(sample_tweet)\n",
    "print(preprocessed_tweet)"
   ]
  },
  {
   "cell_type": "code",
   "execution_count": 22,
   "metadata": {},
   "outputs": [],
   "source": [
    "# Creating the variable 'token_tweets' to preprocess all the tweets in the corpus using a list comprehension.\n",
    "token_tweets = [tweet_preparer(tweet, sw) for tweet in X_train]"
   ]
  },
  {
   "cell_type": "code",
   "execution_count": 23,
   "metadata": {},
   "outputs": [],
   "source": [
    "# Secondary train-test split to build our baseline model to prevent data leakage\n",
    "X_train2, X_val, y_train2, y_val = train_test_split(token_tweets, y_train, test_size=0.2, random_state=42)"
   ]
  },
  {
   "cell_type": "code",
   "execution_count": 24,
   "metadata": {},
   "outputs": [],
   "source": [
    "# Instantiating a count vectorizer and fit/transforming on the data, converting the sparse matrix to a df\n",
    "cv = CountVectorizer()\n",
    "\n",
    "X_train2_vec = cv.fit_transform(X_train2)\n",
    "X_train2_vec = pd.DataFrame.sparse.from_spmatrix(X_train2_vec)\n",
    "X_train2_vec.columns = sorted(cv.vocabulary_)\n",
    "X_train2_vec.set_index(y_train2.index, inplace=True)"
   ]
  },
  {
   "cell_type": "code",
   "execution_count": 30,
   "metadata": {},
   "outputs": [],
   "source": [
    "# We then transform the validation set. We do not refit the vectorizer\n",
    "\n",
    "X_val_vec = cv.transform(X_val)\n",
    "X_val_vec  = pd.DataFrame.sparse.from_spmatrix(X_val_vec)\n",
    "X_val_vec.columns = sorted(cv.vocabulary_)\n",
    "X_val_vec.set_index(y_val.index, inplace=True)\n"
   ]
  },
  {
   "cell_type": "markdown",
   "metadata": {},
   "source": [
    "Bringing in the XGB classifier to gain information regarding the feature importances."
   ]
  },
  {
   "cell_type": "code",
   "execution_count": 25,
   "metadata": {},
   "outputs": [],
   "source": [
    "# importing the XGB classifier\n",
    "from xgboost import XGBClassifier\n",
    "\n",
    "# Training an XGBoost classifier\n",
    "xgb = XGBClassifier()\n",
    "xgb.fit(X_train2_vec, y_train2)\n",
    "\n",
    "# Getting the feature importances\n",
    "feature_importances = xgb.feature_importances_"
   ]
  },
  {
   "cell_type": "markdown",
   "metadata": {},
   "source": [
    "As we can see the model seems to be pretty noisey with no words carrying any real significant importance."
   ]
  },
  {
   "cell_type": "code",
   "execution_count": 26,
   "metadata": {},
   "outputs": [
    {
     "name": "stdout",
     "output_type": "stream",
     "text": [
      "Word: risk, Importance: 0.02288128435611725\n",
      "Word: tomlinson, Importance: 0.01671871915459633\n",
      "Word: suckle, Importance: 0.013190427795052528\n",
      "Word: tonight, Importance: 0.012616084888577461\n",
      "Word: magnet, Importance: 0.01258721761405468\n",
      "Word: vodka, Importance: 0.010560708120465279\n",
      "Word: useless, Importance: 0.009381743147969246\n",
      "Word: andro, Importance: 0.008978161960840225\n",
      "Word: sunny, Importance: 0.008740651421248913\n",
      "Word: fogo, Importance: 0.008724075742065907\n",
      "Word: hatch, Importance: 0.008574437350034714\n",
      "Word: circle, Importance: 0.008478113450109959\n",
      "Word: smooth, Importance: 0.008417734876275063\n",
      "Word: designingforkids, Importance: 0.008144614286720753\n",
      "Word: um, Importance: 0.007809595204889774\n",
      "Word: yea, Importance: 0.007069358602166176\n",
      "Word: weve, Importance: 0.0065613617189228535\n",
      "Word: computer, Importance: 0.005903459619730711\n",
      "Word: singularity, Importance: 0.005890409462153912\n",
      "Word: realtalk, Importance: 0.005881895776838064\n",
      "Word: genius, Importance: 0.005815880838781595\n",
      "Word: tim, Importance: 0.0055287741124629974\n",
      "Word: larry, Importance: 0.005365659482777119\n",
      "Word: sleepy, Importance: 0.005217237398028374\n",
      "Word: toolongforme, Importance: 0.00516555504873395\n",
      "Word: interact, Importance: 0.005164481233805418\n",
      "Word: pnid, Importance: 0.005028867162764072\n",
      "Word: spoke, Importance: 0.0049965232610702515\n",
      "Word: layer, Importance: 0.004846072755753994\n",
      "Word: tempt, Importance: 0.004835561849176884\n",
      "Word: drumbeat, Importance: 0.004746806807816029\n",
      "Word: sauce, Importance: 0.004733339883387089\n",
      "Word: interested, Importance: 0.004692467860877514\n",
      "Word: official, Importance: 0.004688962362706661\n",
      "Word: pac, Importance: 0.004665928892791271\n",
      "Word: move, Importance: 0.004648627247661352\n",
      "Word: cute, Importance: 0.0045481170527637005\n",
      "Word: domo, Importance: 0.004495047498494387\n",
      "Word: samsung, Importance: 0.0044893124140799046\n",
      "Word: peek, Importance: 0.00444903364405036\n",
      "Word: excite, Importance: 0.004445383325219154\n",
      "Word: macy, Importance: 0.004442444536834955\n",
      "Word: apple, Importance: 0.0044411770068109035\n",
      "Word: slice, Importance: 0.004436931572854519\n",
      "Word: gesture, Importance: 0.004342707339674234\n",
      "Word: berklee, Importance: 0.004298155661672354\n",
      "Word: founder, Importance: 0.004282986745238304\n",
      "Word: vip, Importance: 0.004201860167086124\n",
      "Word: iron, Importance: 0.0041814278811216354\n",
      "Word: protip, Importance: 0.004139323718845844\n"
     ]
    }
   ],
   "source": [
    "# Getting indices of features sorted by importance\n",
    "sorted_indices = np.argsort(feature_importances)[::-1]\n",
    "\n",
    "# Get feature names (words)\n",
    "feature_names = np.array(list(cv.vocabulary_.keys()))\n",
    "\n",
    "# Get the top 50 words and their importances\n",
    "top_50_words = feature_names[sorted_indices[:50]]\n",
    "top_50_importances = feature_importances[sorted_indices[:50]]\n",
    "\n",
    "# Display the top 50 words and their importances\n",
    "for word, importance in zip(top_50_words, top_50_importances):\n",
    "    print(f\"Word: {word}, Importance: {importance}\")"
   ]
  },
  {
   "cell_type": "markdown",
   "metadata": {},
   "source": [
    "I typed `zip function for python in lists` into google and found this [solution](https://stackoverflow.com/questions/71582204/zip-function-in-python-for-lists)"
   ]
  },
  {
   "cell_type": "code",
   "execution_count": 27,
   "metadata": {},
   "outputs": [
    {
     "name": "stdout",
     "output_type": "stream",
     "text": [
      "Top 20 words in Positive (class 1) class:\n",
      "party: 116\n",
      "win: 104\n",
      "one: 100\n",
      "time: 95\n",
      "great: 92\n",
      "free: 85\n",
      "get: 84\n",
      "like: 81\n",
      "use: 81\n",
      "cool: 79\n",
      "circle: 77\n",
      "day: 76\n",
      "love: 75\n",
      "see: 72\n",
      "good: 71\n",
      "social: 71\n",
      "today: 71\n",
      "check: 69\n",
      "w: 69\n",
      "map: 68\n",
      "\n",
      "Top 20 words in Not Positive (class 0) class:\n",
      "social: 178\n",
      "circle: 167\n",
      "today: 134\n",
      "network: 128\n",
      "call: 109\n",
      "party: 80\n",
      "need: 78\n",
      "major: 78\n",
      "free: 74\n",
      "mobile: 66\n",
      "make: 65\n",
      "u: 65\n",
      "see: 63\n",
      "use: 63\n",
      "like: 63\n",
      "possibly: 63\n",
      "say: 60\n",
      "design: 57\n",
      "go: 56\n",
      "one: 53\n"
     ]
    }
   ],
   "source": [
    "# Function to count word frequencies for a given class\n",
    "def count_word_frequencies(text_data, class_label):\n",
    "    # Filter text data based on class label\n",
    "    text_class = [text for text, label in zip(text_data, y_train2) if label == class_label]\n",
    "    # Flatten the list of text data into a single list of words\n",
    "    all_words = ' '.join(text_class).split()\n",
    "    # Count word frequencies\n",
    "    word_counts = Counter(all_words)\n",
    "    return word_counts\n",
    "\n",
    "# Count word frequencies for positive (class 1) and not positive (class 0) classes\n",
    "positive_word_counts = count_word_frequencies(X_train2, 1)\n",
    "not_positive_word_counts = count_word_frequencies(X_train2, 0)\n",
    "\n",
    "# Get the top 20 words for each class\n",
    "top_20_positive_words = positive_word_counts.most_common(20)\n",
    "top_20_not_positive_words = not_positive_word_counts.most_common(20)\n",
    "\n",
    "# Display the top 20 words for each class\n",
    "print(\"Top 20 words in Positive (class 1) class:\")\n",
    "for word, count in top_20_positive_words:\n",
    "    print(f\"{word}: {count}\")\n",
    "\n",
    "print(\"\\nTop 20 words in Not Positive (class 0) class:\")\n",
    "for word, count in top_20_not_positive_words:\n",
    "    print(f\"{word}: {count}\")"
   ]
  },
  {
   "cell_type": "markdown",
   "metadata": {},
   "source": [
    "This was useful to see which words appeared in both classes. I removed many stop words that had a high count in both classes. I did leave some in, for example the word 'social' although was in both classes it showed up significantly more in the 'Not Positive' class so I decided to keep it in."
   ]
  },
  {
   "cell_type": "code",
   "execution_count": 45,
   "metadata": {},
   "outputs": [
    {
     "data": {
      "image/png": "[encoded data removed]",
      "text/plain": [
       "<Figure size 432x288 with 1 Axes>"
      ]
     },
     "metadata": {},
     "output_type": "display_data"
    }
   ],
   "source": [
    "# Graphing the top 5 words and their counts for the Positive class\n",
    "top_5_positive_words = top_20_positive_words[:5]\n",
    "words_positive, counts_positive = zip(*top_5_positive_words)\n",
    "\n",
    "# Create a bar chart for the positive class\n",
    "plt.bar(words_positive, counts_positive, color='green')\n",
    "plt.xlabel('Words', fontsize=14, fontweight='bold')  # Adjust fontsize and fontweight as needed\n",
    "plt.ylabel('Word Counts', fontsize=14, fontweight='bold')  # Adjust fontsize and fontweight as needed\n",
    "plt.title('Top 5 Words in Positive Class', fontsize=16, fontweight='bold')  # Adjust fontsize and fontweight as needed\n",
    "plt.xticks(fontsize=10, fontweight='bold')  # Adjust fontsize and fontweight as needed\n",
    "plt.yticks(fontsize=10, fontweight='bold')  # Adjust fontsize and fontweight as needed\n",
    "plt.show()"
   ]
  },
  {
   "cell_type": "code",
   "execution_count": 43,
   "metadata": {},
   "outputs": [
    {
     "data": {
      "image/png": "[encoded data removed]",
      "text/plain": [
       "<Figure size 432x288 with 1 Axes>"
      ]
     },
     "metadata": {},
     "output_type": "display_data"
    }
   ],
   "source": [
    "# Graphing the top 5 words and their counts for the Not Positive class\n",
    "top_5_not_positive_words = top_20_not_positive_words[:5]\n",
    "words_not_positive, counts_not_positive = zip(*top_5_not_positive_words)\n",
    "\n",
    "# Creating a bar chart for the top 5 Not Positive class words\n",
    "plt.bar(words_not_positive, counts_not_positive, color='red')\n",
    "plt.xlabel('Words', fontsize=14, fontweight='bold')  # Adjust fontsize and fontweight as needed\n",
    "plt.ylabel('Word Counts', fontsize=14, fontweight='bold')  # Adjust fontsize and fontweight as needed\n",
    "plt.title('Top 5 Words in Not Positive Class', fontsize=16, fontweight='bold')  # Adjust fontsize and fontweight as needed\n",
    "plt.xticks(fontsize=10, fontweight='bold')  # Adjust fontsize and fontweight as needed\n",
    "plt.yticks(fontsize=10, fontweight='bold')  # Adjust fontsize and fontweight as needed\n",
    "plt.show()"
   ]
  },
  {
   "cell_type": "markdown",
   "metadata": {},
   "source": [
    "# Modeling"
   ]
  },
  {
   "cell_type": "code",
   "execution_count": 31,
   "metadata": {},
   "outputs": [
    {
     "data": {
      "text/html": [
       "<style>#sk-container-id-1 {color: black;}#sk-container-id-1 pre{padding: 0;}#sk-container-id-1 div.sk-toggleable {background-color: white;}#sk-container-id-1 label.sk-toggleable__label {cursor: pointer;display: block;width: 100%;margin-bottom: 0;padding: 0.3em;box-sizing: border-box;text-align: center;}#sk-container-id-1 label.sk-toggleable__label-arrow:before {content: \"▸\";float: left;margin-right: 0.25em;color: #696969;}#sk-container-id-1 label.sk-toggleable__label-arrow:hover:before {color: black;}#sk-container-id-1 div.sk-estimator:hover label.sk-toggleable__label-arrow:before {color: black;}#sk-container-id-1 div.sk-toggleable__content {max-height: 0;max-width: 0;overflow: hidden;text-align: left;background-color: #f0f8ff;}#sk-container-id-1 div.sk-toggleable__content pre {margin: 0.2em;color: black;border-radius: 0.25em;background-color: #f0f8ff;}#sk-container-id-1 input.sk-toggleable__control:checked~div.sk-toggleable__content {max-height: 200px;max-width: 100%;overflow: auto;}#sk-container-id-1 input.sk-toggleable__control:checked~label.sk-toggleable__label-arrow:before {content: \"▾\";}#sk-container-id-1 div.sk-estimator input.sk-toggleable__control:checked~label.sk-toggleable__label {background-color: #d4ebff;}#sk-container-id-1 div.sk-label input.sk-toggleable__control:checked~label.sk-toggleable__label {background-color: #d4ebff;}#sk-container-id-1 input.sk-hidden--visually {border: 0;clip: rect(1px 1px 1px 1px);clip: rect(1px, 1px, 1px, 1px);height: 1px;margin: -1px;overflow: hidden;padding: 0;position: absolute;width: 1px;}#sk-container-id-1 div.sk-estimator {font-family: monospace;background-color: #f0f8ff;border: 1px dotted black;border-radius: 0.25em;box-sizing: border-box;margin-bottom: 0.5em;}#sk-container-id-1 div.sk-estimator:hover {background-color: #d4ebff;}#sk-container-id-1 div.sk-parallel-item::after {content: \"\";width: 100%;border-bottom: 1px solid gray;flex-grow: 1;}#sk-container-id-1 div.sk-label:hover label.sk-toggleable__label {background-color: #d4ebff;}#sk-container-id-1 div.sk-serial::before {content: \"\";position: absolute;border-left: 1px solid gray;box-sizing: border-box;top: 0;bottom: 0;left: 50%;z-index: 0;}#sk-container-id-1 div.sk-serial {display: flex;flex-direction: column;align-items: center;background-color: white;padding-right: 0.2em;padding-left: 0.2em;position: relative;}#sk-container-id-1 div.sk-item {position: relative;z-index: 1;}#sk-container-id-1 div.sk-parallel {display: flex;align-items: stretch;justify-content: center;background-color: white;position: relative;}#sk-container-id-1 div.sk-item::before, #sk-container-id-1 div.sk-parallel-item::before {content: \"\";position: absolute;border-left: 1px solid gray;box-sizing: border-box;top: 0;bottom: 0;left: 50%;z-index: -1;}#sk-container-id-1 div.sk-parallel-item {display: flex;flex-direction: column;z-index: 1;position: relative;background-color: white;}#sk-container-id-1 div.sk-parallel-item:first-child::after {align-self: flex-end;width: 50%;}#sk-container-id-1 div.sk-parallel-item:last-child::after {align-self: flex-start;width: 50%;}#sk-container-id-1 div.sk-parallel-item:only-child::after {width: 0;}#sk-container-id-1 div.sk-dashed-wrapped {border: 1px dashed gray;margin: 0 0.4em 0.5em 0.4em;box-sizing: border-box;padding-bottom: 0.4em;background-color: white;}#sk-container-id-1 div.sk-label label {font-family: monospace;font-weight: bold;display: inline-block;line-height: 1.2em;}#sk-container-id-1 div.sk-label-container {text-align: center;}#sk-container-id-1 div.sk-container {/* jupyter's `normalize.less` sets `[hidden] { display: none; }` but bootstrap.min.css set `[hidden] { display: none !important; }` so we also need the `!important` here to be able to override the default hidden behavior on the sphinx rendered scikit-learn.org. See: https://github.com/scikit-learn/scikit-learn/issues/21755 */display: inline-block !important;position: relative;}#sk-container-id-1 div.sk-text-repr-fallback {display: none;}</style><div id=\"sk-container-id-1\" class=\"sk-top-container\"><div class=\"sk-text-repr-fallback\"><pre>MultinomialNB(alpha=0.5)</pre><b>In a Jupyter environment, please rerun this cell to show the HTML representation or trust the notebook. <br />On GitHub, the HTML representation is unable to render, please try loading this page with nbviewer.org.</b></div><div class=\"sk-container\" hidden><div class=\"sk-item\"><div class=\"sk-estimator sk-toggleable\"><input class=\"sk-toggleable__control sk-hidden--visually\" id=\"sk-estimator-id-1\" type=\"checkbox\" checked><label for=\"sk-estimator-id-1\" class=\"sk-toggleable__label sk-toggleable__label-arrow\">MultinomialNB</label><div class=\"sk-toggleable__content\"><pre>MultinomialNB(alpha=0.5)</pre></div></div></div></div></div>"
      ],
      "text/plain": [
       "MultinomialNB(alpha=0.5)"
      ]
     },
     "execution_count": 31,
     "metadata": {},
     "output_type": "execute_result"
    }
   ],
   "source": [
    "# Fitting the Multinomial Naive Bayes Classifier on our training data\n",
    "mnb = MultinomialNB(alpha=0.5)\n",
    "\n",
    "mnb.fit(X_train2_vec, y_train2)"
   ]
  },
  {
   "cell_type": "code",
   "execution_count": 32,
   "metadata": {},
   "outputs": [
    {
     "data": {
      "text/plain": [
       "0.86670165310942"
      ]
     },
     "execution_count": 32,
     "metadata": {},
     "output_type": "execute_result"
    }
   ],
   "source": [
    "# Evaluating our training data\n",
    "y_train_pred = mnb.predict(X_train2_vec)\n",
    "accuracy_score(y_train2, y_train_pred)"
   ]
  },
  {
   "cell_type": "code",
   "execution_count": 33,
   "metadata": {},
   "outputs": [
    {
     "data": {
      "text/plain": [
       "0.6474291710388248"
      ]
     },
     "execution_count": 33,
     "metadata": {},
     "output_type": "execute_result"
    }
   ],
   "source": [
    "# Generating model predictions and getting an accuracy score for our Testing Data\n",
    "y_pred = mnb.predict(X_val_vec)\n",
    "accuracy_score(y_val, y_pred)"
   ]
  },
  {
   "cell_type": "code",
   "execution_count": 34,
   "metadata": {},
   "outputs": [
    {
     "data": {
      "text/plain": [
       "0.6425925925925926"
      ]
     },
     "execution_count": 34,
     "metadata": {},
     "output_type": "execute_result"
    }
   ],
   "source": [
    "# calculating a precision score\n",
    "precision_score(y_val, y_pred)"
   ]
  },
  {
   "cell_type": "markdown",
   "metadata": {},
   "source": [
    "We got an 85% accuracy score on our training data and roughly a 65% accuracy score on our testing data. We had a similar score of 64% on precision. Our model did do significantly better on the training data most likely due to overfitting from noise in the training data (too many words with low feature importance)."
   ]
  },
  {
   "cell_type": "code",
   "execution_count": 35,
   "metadata": {},
   "outputs": [
    {
     "name": "stdout",
     "output_type": "stream",
     "text": [
      "Best Accuracy: 0.649962332690065\n",
      "Best Parameters: {'alpha': 0.5}\n"
     ]
    }
   ],
   "source": [
    "# Define the hyperparameter grid\n",
    "param_grid = {\n",
    "    'alpha': [0.1, 0.5, 1.0],              # alpha parameter for MultinomialNB\n",
    "}\n",
    "\n",
    "# Initialize MultinomialNB classifier\n",
    "mnb = MultinomialNB()\n",
    "\n",
    "# Perform GridSearchCV with accuracy as the scoring metric with 5 folds\n",
    "grid_search = GridSearchCV(mnb, param_grid, cv=5, scoring='accuracy')\n",
    "\n",
    "# Training the GridSearchCV on the training data\n",
    "grid_search.fit(X_train2_vec, y_train2)\n",
    "\n",
    "# Geting the best accuracy score and hyperparameters\n",
    "best_accuracy = grid_search.best_score_\n",
    "best_params = grid_search.best_params_\n",
    "\n",
    "print(\"Best Accuracy:\", best_accuracy)\n",
    "print(\"Best Parameters:\", best_params)"
   ]
  },
  {
   "cell_type": "markdown",
   "metadata": {},
   "source": [
    "The GridSearch helped reveal what the best alpha should be to improve accuracy."
   ]
  },
  {
   "cell_type": "code",
   "execution_count": 36,
   "metadata": {},
   "outputs": [],
   "source": [
    "# Setting up a confusion matrix on our testing data\n",
    "cm = confusion_matrix(y_val, y_pred)\n"
   ]
  },
  {
   "cell_type": "code",
   "execution_count": 37,
   "metadata": {},
   "outputs": [
    {
     "data": {
      "image/png": "[encoded data removed]",
      "text/plain": [
       "<Figure size 576x432 with 1 Axes>"
      ]
     },
     "metadata": {
      "needs_background": "light"
     },
     "output_type": "display_data"
    }
   ],
   "source": [
    "# Set up a figure and axis\n",
    "plt.figure(figsize=(8, 6))\n",
    "sns.set(font_scale=1.2)  # Adjust font size for better readability\n",
    "\n",
    "# Create a heatmap of the confusion matrix\n",
    "sns.heatmap(cm, annot=True, fmt='g', cmap='Blues', cbar=False,\n",
    "            annot_kws={\"size\": 14}, square=True,\n",
    "            xticklabels=['Not Positive', 'Positive'],\n",
    "            yticklabels=['Not Positive', 'Positive'])\n",
    "\n",
    "# Labeling and viewing the cm\n",
    "plt.xlabel('Predicted')\n",
    "plt.ylabel('True')\n",
    "plt.title('Confusion Matrix')\n",
    "plt.show()"
   ]
  },
  {
   "cell_type": "code",
   "execution_count": 38,
   "metadata": {},
   "outputs": [
    {
     "data": {
      "text/plain": [
       "0.4858342077649528"
      ]
     },
     "execution_count": 38,
     "metadata": {},
     "output_type": "execute_result"
    }
   ],
   "source": [
    "# Fitting a tfidf on training data to make predictions with words that appear in 5%-95% of tweets\n",
    "tfidf = TfidfVectorizer(min_df=0.05, max_df=0.95)\n",
    "X_train2_vec = tfidf.fit_transform(X_train2)\n",
    "X_val_vec = tfidf.transform(X_val)\n",
    "mnb2 = MultinomialNB()\n",
    "mnb2.fit(X_train2_vec, y_train2)\n",
    "y_pred2 = mnb2.predict(X_val_vec)\n",
    "\n",
    "accuracy_score(y_val, y_pred2)"
   ]
  },
  {
   "cell_type": "markdown",
   "metadata": {},
   "source": [
    "The tfidf mnb model with min, max hyperparameters led to a worse accuracy score of almost 50%."
   ]
  },
  {
   "cell_type": "code",
   "execution_count": 40,
   "metadata": {},
   "outputs": [
    {
     "data": {
      "text/plain": [
       "0.5214368482039398"
      ]
     },
     "execution_count": 40,
     "metadata": {},
     "output_type": "execute_result"
    }
   ],
   "source": [
    "# Fitting a Random Forest Classifier on training data, and making predictions on validation data\n",
    "rf = RandomForestClassifier(n_estimators=1000, max_features=5, max_depth=5)\n",
    "rf.fit(X_train2_vec, y_train2)\n",
    "y_pred3 = rf.predict(X_val_vec)\n",
    "precision_score(y_val, y_pred3)"
   ]
  },
  {
   "cell_type": "code",
   "execution_count": 41,
   "metadata": {},
   "outputs": [
    {
     "data": {
      "text/plain": [
       "0.5246589716684156"
      ]
     },
     "execution_count": 41,
     "metadata": {},
     "output_type": "execute_result"
    }
   ],
   "source": [
    "accuracy_score(y_val, y_pred3)"
   ]
  },
  {
   "cell_type": "markdown",
   "metadata": {},
   "source": [
    "The random forest model with hyperparameters did not perform as well as the mnb model with alpha set to 0.5. This model had an accuracy score of 52%"
   ]
  },
  {
   "cell_type": "markdown",
   "metadata": {},
   "source": [
    "# Evaluation"
   ]
  },
  {
   "cell_type": "markdown",
   "metadata": {},
   "source": [
    "Our best performing model was our Multinomial Bayes model that used a GridSearch with hyperparameters, the alpha was set to 0.5. This is an example of Laplace smoothing which avoids the problem of zero probabilities of unseen words in the training data. The model was trained on data using a count vectorizer of all the words in the corpus after preprocessing. It had an accuracy score of about 65% which is not great in determining whether tweets had positive sentiment or not. It also had a precision score that was roughly the same. We looked at accuracy as the best metric because in terms of minimizing false/negatives and false/positives, one was not more important than the other. Therefore precision and recall didn't matter as much as accuracy. It was a better metric because we had a balance in our classes. Our confusion matrix confirmed this by showing we had 616 correct predictions out of 953 possible instances in our sample."
   ]
  },
  {
   "cell_type": "markdown",
   "metadata": {},
   "source": [
    "# Conclusion"
   ]
  },
  {
   "cell_type": "markdown",
   "metadata": {},
   "source": [
    "Our Multinomial Bayes model that was trained on vectorized data with the help of a Grid Search for hyperparameter tuning was our best performing model. This model had an 85% accuracy score on training data and a 65% accuracy on testing data. This is most likely due to overfitting from noise in the data. When we looked at feature importances and didn't see any words with significant importance which was most likely the contributing factor. The sample from our confusion matrix showed that the model correctly classified instances 616 times out of 953 instances. We discovered the top 5 frequently used words in the Positive class were 'party', 'win', 'one', 'time' and 'great'. The top 5 words for the Not Positive class were 'social', 'circle', 'today', 'network', and 'call'. We need to gather a lot more data, specifically with negative sentiment as this was lacking in the dataset forcing us to create a Not Positive class which was not ideal because there was a lot of data with no emotion mixed in with only a little bit of negative sentiment."
   ]
  },
  {
   "cell_type": "markdown",
   "metadata": {},
   "source": [
    "## Limitations"
   ]
  },
  {
   "cell_type": "markdown",
   "metadata": {},
   "source": [
    "Some limitations of the data was that there was initially a pretty heavy class imbalance in sentiment. Over half of the data (in this case tweets) showed to have no emotion. With only 33% showing positive sentiment and only around 6% showing negative sentiment. This forced me to combine no emotion tweets and negative tweets to create a 'Not Positive' category. This contributed to our models not being very accurrate. There were also a lot of missing values (nearly 2/3) of the data was missing from the 'emotion_in_tweet_is_directed_at' column so I was not able to analyze sentiment regarding certain products. There was a lot of noise in the data, there were not many words with high significant importance. After cleaning the data we were only able to work with around 6,000 entries which is fairly low when it comes to building predictive models. "
   ]
  },
  {
   "cell_type": "markdown",
   "metadata": {},
   "source": [
    "## Next Steps"
   ]
  },
  {
   "cell_type": "markdown",
   "metadata": {},
   "source": [
    "We need to gather more data on negative sentiment as well as positive sentiment. Negative sentiment is just as useful and in some cases more useful information to have to know what to avoid and how to make improvements. We need to gather 10x more data from other social media platforms as well, not just twitter. Gathering information on specific areas of the conference (whether it be in film, music, education or brands in tech) will help SXSW become an even better more well rounded event rather than just looking at general sentiment towards the event. "
   ]
  }
 ],
 "metadata": {
  "kernelspec": {
   "display_name": "Python [conda env:learn-env] *",
   "language": "python",
   "name": "conda-env-learn-env-py"
  },
  "language_info": {
   "codemirror_mode": {
    "name": "ipython",
    "version": 3
   },
   "file_extension": ".py",
   "mimetype": "text/x-python",
   "name": "python",
   "nbconvert_exporter": "python",
   "pygments_lexer": "ipython3",
   "version": "3.8.5"
  }
 },
 "nbformat": 4,
 "nbformat_minor": 4
}
